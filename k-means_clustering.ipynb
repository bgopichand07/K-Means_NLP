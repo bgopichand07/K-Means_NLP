{
 "cells": [
  {
   "cell_type": "markdown",
   "id": "4ae0bc19",
   "metadata": {},
   "source": [
    "# Imports"
   ]
  },
  {
   "cell_type": "code",
   "execution_count": null,
   "id": "c4d563d7",
   "metadata": {},
   "outputs": [],
   "source": [
    "import pandas as pd\n",
    "import numpy as np\n",
    "import string\n",
    "import re\n",
    "import pickle\n",
    "import nltk\n",
    "from nltk.corpus import stopwords\n",
    "from nltk.stem import WordNetLemmatizer\n",
    "from nltk import word_tokenize\n",
    "from sklearn.feature_extraction.text import CountVectorizer\n",
    "from sklearn.cluster import MiniBatchKMeans\n",
    "from sklearn.pipeline import Pipeline\n",
    "from gensim.models.keyedvectors import KeyedVectors\n",
    "from gensim.models import Word2Vec\n",
    "import matplotlib.pyplot as plt\n",
    "from wordcloud import WordCloud\n",
    "%matplotlib inline"
   ]
  },
  {
   "cell_type": "markdown",
   "id": "a80a8052",
   "metadata": {},
   "source": [
    "# Loadind Data"
   ]
  },
  {
   "cell_type": "code",
   "execution_count": null,
   "id": "b533f782",
   "metadata": {},
   "outputs": [],
   "source": [
    "df = pd.read_csv(\"pub_abs.csv\")\n",
    "abst_list = df['Abstract'].values.astype('U')"
   ]
  },
  {
   "cell_type": "markdown",
   "id": "f971d7cf",
   "metadata": {},
   "source": [
    "# Text Preprocessing"
   ]
  },
  {
   "cell_type": "code",
   "execution_count": null,
   "id": "b130af5e",
   "metadata": {},
   "outputs": [],
   "source": [
    "nopunc = str.maketrans('', '', string.punctuation)\n",
    "lem = WordNetLemmatizer()\n",
    "custom_stopwords = set(stopwords.words(\"english\")+ [\"study\", \"group\", \"patient\", \"used\", \n",
    "                                                     \"disease\", \"effect\", \"method\", \"also\",\n",
    "                                                     \"result\", \"two\", \"may\",\"level\",\n",
    "                                                     \"participant\",\"treatment\",\"associated\"\n",
    "                                                     \"risk\", \"however\",\"year\",\n",
    "                                                     \"the\", \"this\",\"using\", \"showed\", \"analysis\"])\n",
    "custom_stopwords = [lem.lemmatize(word) for word in custom_stopwords]"
   ]
  },
  {
   "cell_type": "code",
   "execution_count": null,
   "id": "2b892df4",
   "metadata": {},
   "outputs": [],
   "source": [
    "def preprocess(abst_list):\n",
    "    abstracts =[]\n",
    "    for line in abst_list:\n",
    "        line.replace(\"\\n\", \"\")\n",
    "        line = line.lower()\n",
    "        line = line.translate(nopunc)\n",
    "        line = re.sub('[^A-Za-z]', ' ', line)\n",
    "        new = ' '\n",
    "        for word in line.split():\n",
    "            word = lem.lemmatize(word)\n",
    "            if word not in custom_stopwords and len(word)>3:\n",
    "                new = new + ' ' + word\n",
    "        abstracts.append(new)\n",
    "    return abstracts"
   ]
  },
  {
   "cell_type": "code",
   "execution_count": null,
   "id": "4b9e7c68",
   "metadata": {},
   "outputs": [],
   "source": [
    "abstract_list = preprocess(abst_list)"
   ]
  },
  {
   "cell_type": "code",
   "execution_count": null,
   "id": "5b5a2257",
   "metadata": {},
   "outputs": [],
   "source": [
    "abstract_list[0]"
   ]
  },
  {
   "cell_type": "code",
   "execution_count": null,
   "id": "e360f073",
   "metadata": {},
   "outputs": [],
   "source": [
    "def tokenizer(abst_list):\n",
    "    abstract_tokens =[]\n",
    "    for line in abst_list:\n",
    "        tokens = word_tokenize(line)\n",
    "        tokens = [t for t in tokens if len(t) > 3]\n",
    "        abstract_tokens.append(tokens)\n",
    "    return abstract_tokens"
   ]
  },
  {
   "cell_type": "code",
   "execution_count": null,
   "id": "15368bfd",
   "metadata": {},
   "outputs": [],
   "source": [
    "abstract_tokens = tokenizer(abstract_list)"
   ]
  },
  {
   "cell_type": "markdown",
   "id": "10d37022",
   "metadata": {},
   "source": [
    "# Word Vectorization"
   ]
  },
  {
   "cell_type": "code",
   "execution_count": null,
   "id": "6b4533d4",
   "metadata": {},
   "outputs": [],
   "source": [
    "vectorizer = KeyedVectors.load_word2vec_format('PubMed-w2v.bin', binary=True)"
   ]
  },
  {
   "cell_type": "code",
   "execution_count": null,
   "id": "c32895c1",
   "metadata": {},
   "outputs": [],
   "source": [
    "def w2v_vectorizer(list_of_docs, model):\n",
    "    features = []\n",
    "\n",
    "    for tokens in list_of_docs:\n",
    "        zero_vector = np.zeros(model.vector_size)\n",
    "        vectors = []\n",
    "        for token in tokens:\n",
    "            if token in model:\n",
    "                try:\n",
    "                    vectors.append(model[token])\n",
    "                except KeyError:\n",
    "                    continue\n",
    "        if vectors:\n",
    "            vectors = np.asarray(vectors)\n",
    "            avg_vec = vectors.mean(axis=0)\n",
    "            features.append(avg_vec)\n",
    "        else:\n",
    "            features.append(zero_vector)\n",
    "    return features"
   ]
  },
  {
   "cell_type": "code",
   "execution_count": null,
   "id": "ada66a14",
   "metadata": {},
   "outputs": [],
   "source": [
    "text_vectors = w2v_vectorizer(abstract_tokens,vectorizer)"
   ]
  },
  {
   "cell_type": "markdown",
   "id": "84acf109",
   "metadata": {},
   "source": [
    "# Model building"
   ]
  },
  {
   "cell_type": "code",
   "execution_count": null,
   "id": "3d40662b",
   "metadata": {},
   "outputs": [],
   "source": [
    "# checking for optimal number of clusters\n",
    "sse = []\n",
    "list_k = list(range(2,15))\n",
    "\n",
    "for k in list_k:\n",
    "    km = MiniBatchKMeans(init='k-means++',n_clusters = k,random_state=0,n_init=20,max_iter=1000)\n",
    "    km.fit(text_vectors)\n",
    "    sse.append(km.inertia_)\n",
    "    \n",
    "plt.figure(figsize=(6,6))\n",
    "plt.plot(list_k,sse,'-o')\n",
    "plt.xlabel('Number of clusters k')\n",
    "plt.ylabel('sum of squared distance')\n",
    "plt.title('Elbow Method For Optimal k')\n",
    "plt.show()"
   ]
  },
  {
   "cell_type": "code",
   "execution_count": null,
   "id": "3ec91fd8",
   "metadata": {},
   "outputs": [],
   "source": [
    "k = 6\n",
    "k_means = MiniBatchKMeans(init='k-means++',n_clusters = k,random_state=0,n_init=20,max_iter=1000)\n",
    "k_means.fit(text_vectors)"
   ]
  },
  {
   "cell_type": "markdown",
   "id": "038300bb",
   "metadata": {},
   "source": [
    "# visualization"
   ]
  },
  {
   "cell_type": "code",
   "execution_count": null,
   "id": "f1cee6b8",
   "metadata": {},
   "outputs": [],
   "source": [
    "from sklearn.decomposition import PCA\n",
    "pca = PCA(n_components=2,random_state=0)\n",
    "reduced_vectors = pca.fit_transform(text_vectors)\n",
    "reduced_clusters = pca.fit_transform(k_means.cluster_centers_)"
   ]
  },
  {
   "cell_type": "code",
   "execution_count": null,
   "id": "245b6cad",
   "metadata": {},
   "outputs": [],
   "source": [
    "plt.scatter(reduced_vectors[:,0],reduced_vectors[:,1],c=k_means.labels_)\n",
    "plt.scatter(reduced_clusters[:, 0],reduced_clusters[:, 1], marker='x', s=150, c='r')"
   ]
  },
  {
   "cell_type": "markdown",
   "id": "f563b68a",
   "metadata": {},
   "source": [
    "# Top words from each cluster"
   ]
  },
  {
   "cell_type": "code",
   "execution_count": null,
   "id": "25948384",
   "metadata": {},
   "outputs": [],
   "source": [
    "df['preprocessed_abstract'] = abstract_list\n",
    "df['labels'] = k_means.labels_\n",
    "df['labels'].value_counts()"
   ]
  },
  {
   "cell_type": "code",
   "execution_count": null,
   "id": "7fd59227",
   "metadata": {},
   "outputs": [],
   "source": [
    "def get_top_n_words(corpus, n):\n",
    "    vec = CountVectorizer().fit(corpus)\n",
    "    bag_of_words = vec.transform(corpus)\n",
    "    sum_words = bag_of_words.sum(axis=0) \n",
    "    words_freq = [(word, sum_words[0, idx]) for word, idx in   vec.vocabulary_.items()]\n",
    "    words_freq =sorted(words_freq, key = lambda x: x[1], reverse=True)\n",
    "    return words_freq[:n]"
   ]
  },
  {
   "cell_type": "code",
   "execution_count": null,
   "id": "d48d6fd0",
   "metadata": {},
   "outputs": [],
   "source": [
    "def get_wordcloud(text):\n",
    "    word_cloud = WordCloud(collocations = False, background_color = 'white').generate(text)\n",
    "    plt.imshow(word_cloud, interpolation='bilinear')\n",
    "    plt.axis(\"off\")\n",
    "    plt.show()"
   ]
  },
  {
   "cell_type": "code",
   "execution_count": null,
   "id": "e820acf3",
   "metadata": {},
   "outputs": [],
   "source": [
    "from wordcloud import WordCloud\n",
    "for clus in range (6):\n",
    "    text =' '\n",
    "    df2 = df.loc[df[\"labels\"]==clus]\n",
    "    \n",
    "    #wordcloud\n",
    "    for abst in df2.preprocessed_abstract:\n",
    "        text += abst\n",
    "    get_wordcloud(text)\n",
    "    \n",
    "    #top10words\n",
    "    words = []\n",
    "    for i, j in get_top_n_words(df2[\"preprocessed_abstract\"],10):\n",
    "        words.append(i)\n",
    "    print (\"Top 10 words from cluster\",clus,\":\")\n",
    "    print (words)"
   ]
  },
  {
   "cell_type": "code",
   "execution_count": null,
   "id": "1f9211a5",
   "metadata": {},
   "outputs": [],
   "source": []
  },
  {
   "cell_type": "markdown",
   "id": "118114fd",
   "metadata": {},
   "source": [
    "# saving the model"
   ]
  },
  {
   "cell_type": "code",
   "execution_count": null,
   "id": "bbc5d1e4",
   "metadata": {},
   "outputs": [],
   "source": []
  },
  {
   "cell_type": "code",
   "execution_count": null,
   "id": "31517fa7",
   "metadata": {},
   "outputs": [],
   "source": []
  },
  {
   "cell_type": "code",
   "execution_count": null,
   "id": "842d8bf4",
   "metadata": {},
   "outputs": [],
   "source": [
    "with open('clusterer_model.pkl', 'wb') as f:\n",
    "    pickle.dump(k_means, f)"
   ]
  },
  {
   "cell_type": "code",
   "execution_count": null,
   "id": "390d7975",
   "metadata": {},
   "outputs": [],
   "source": []
  },
  {
   "cell_type": "code",
   "execution_count": null,
   "id": "5eb8560c",
   "metadata": {},
   "outputs": [],
   "source": [
    "mod = pickle.load(open('clusterer_model.pkl','rb'))"
   ]
  },
  {
   "cell_type": "code",
   "execution_count": null,
   "id": "57536444",
   "metadata": {},
   "outputs": [],
   "source": [
    "word = \"protein\"\n",
    "text_vecc = vectorizer[word]\n",
    "print(text_vecc)"
   ]
  },
  {
   "cell_type": "code",
   "execution_count": null,
   "id": "d776625f",
   "metadata": {},
   "outputs": [],
   "source": [
    "text_vecc = np.asarray(text_vecc)\n",
    "mod.predict([text_vecc])"
   ]
  },
  {
   "cell_type": "code",
   "execution_count": null,
   "id": "261faa8c",
   "metadata": {},
   "outputs": [],
   "source": []
  }
 ],
 "metadata": {
  "kernelspec": {
   "display_name": "Python 3",
   "language": "python",
   "name": "python3"
  },
  "language_info": {
   "codemirror_mode": {
    "name": "ipython",
    "version": 3
   },
   "file_extension": ".py",
   "mimetype": "text/x-python",
   "name": "python",
   "nbconvert_exporter": "python",
   "pygments_lexer": "ipython3",
   "version": "3.8.8"
  }
 },
 "nbformat": 4,
 "nbformat_minor": 5
}
