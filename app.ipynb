{
 "cells": [
  {
   "cell_type": "code",
   "execution_count": null,
   "id": "b3d2e68a",
   "metadata": {},
   "outputs": [],
   "source": [
    "import os\n",
    "import numpy as np\n",
    "import flask\n",
    "import pickle\n",
    "from gensim.models.keyedvectors import KeyedVectors\n",
    "from flask import Flask, redirect, url_for, request, render_template\n",
    "\n",
    "vectorizer = KeyedVectors.load_word2vec_format('PubMed-w2v.bin', binary=True)\n",
    "zero_vector = np.zeros(vectorizer.vector_size)\n",
    "\n",
    "app = Flask(__name__,template_folder='templates')\n",
    "\n",
    "@app.route('/')\n",
    "@app.route('/index')\n",
    "\n",
    "def index():\n",
    "    return flask.render_template('index.html')\n",
    "def cluster_prediction(word):\n",
    "    loaded_model = pickle.load(open('clusterer_model.pkl','rb'))\n",
    "    result = loaded_model.predict([word])\n",
    "    return result\n",
    "\n",
    "@app.route('/result',methods=['POST'])\n",
    "def result():\n",
    "    if request.method == 'POST':\n",
    "        word = request.form['word']\n",
    "        try:\n",
    "            text_vec = vectorizer[word]\n",
    "        except:\n",
    "            text_vec = zero_vector\n",
    "        result = cluster_prediction(text_vec)\n",
    "        prediction = str(word)+' belongs to cluster ' +str(result)\n",
    "        return render_template(\"result.html\",prediction=prediction)"
   ]
  },
  {
   "cell_type": "code",
   "execution_count": null,
   "id": "3efd20fb",
   "metadata": {},
   "outputs": [],
   "source": [
    "if __name__==\"__main__\":\n",
    "    app.run(debug=False)"
   ]
  },
  {
   "cell_type": "code",
   "execution_count": null,
   "id": "951edc00",
   "metadata": {},
   "outputs": [],
   "source": []
  }
 ],
 "metadata": {
  "kernelspec": {
   "display_name": "Python 3",
   "language": "python",
   "name": "python3"
  },
  "language_info": {
   "codemirror_mode": {
    "name": "ipython",
    "version": 3
   },
   "file_extension": ".py",
   "mimetype": "text/x-python",
   "name": "python",
   "nbconvert_exporter": "python",
   "pygments_lexer": "ipython3",
   "version": "3.8.8"
  }
 },
 "nbformat": 4,
 "nbformat_minor": 5
}
